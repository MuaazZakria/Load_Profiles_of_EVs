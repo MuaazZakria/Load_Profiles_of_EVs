{
 "cells": [
  {
   "cell_type": "code",
   "execution_count": 31,
   "id": "940fd69d",
   "metadata": {},
   "outputs": [],
   "source": [
    "import pandas as pd\n",
    "import matplotlib\n",
    "import matplotlib.pyplot as plt\n",
    "from datetime import datetime\n",
    "import math\n",
    "import numpy as np\n",
    "import seaborn as sns\n",
    "import random\n",
    "\n",
    "import seaborn as sns\n",
    "sns.set()"
   ]
  },
  {
   "cell_type": "code",
   "execution_count": 32,
   "id": "1d3448d0",
   "metadata": {},
   "outputs": [],
   "source": [
    "n = 105"
   ]
  },
  {
   "cell_type": "code",
   "execution_count": 33,
   "id": "ad7054bd",
   "metadata": {},
   "outputs": [],
   "source": [
    "numberList = [0,1,2,3]\n",
    "x = random.choices(numberList, weights=(0.733, 0.105, 0.095, 0.067), k=1)\n",
    "\n",
    "def dt(x):\n",
    "    a = x[0]\n",
    "    if a == 0:\n",
    "        b = random.randint(30, 50)\n",
    "    elif a == 1:\n",
    "        b = random.randint(50, 70)\n",
    "    elif a == 2:\n",
    "        b = random.randint(70, 90)\n",
    "    elif a == 3:\n",
    "        b = random.randint(90, 110)\n",
    "    \n",
    "    return b\n",
    "\n",
    "\n",
    "#make array of daily travel distance\n",
    "\n",
    "dtravel =  np.zeros(n)\n",
    "for i in range(len(dtravel)):\n",
    "    x = random.choices(numberList, weights=(0.733, 0.105, 0.095, 0.067), k=1)\n",
    "    dtravel[i] = dt(x)\n",
    "\n",
    "    \n",
    "#Make array of range values\n",
    "ranged =  np.full(n , 137.5)\n",
    "\n",
    "#soc\n",
    "soc = 1 - dtravel/ranged\n",
    "\n",
    "#battery capacity\n",
    "bc =  np.zeros(n)\n",
    "numList = [25,16.5,26.5]\n",
    "for i in range(len(bc)):\n",
    "    x = random.choices(numList, weights=(0.333, 0.333, 0.333), k=1)\n",
    "    bc[i] = x[0]\n",
    "\n",
    "    \n",
    "#Make array of power level\n",
    "pl =  np.full(n , 2.4)\n",
    "\n"
   ]
  },
  {
   "cell_type": "markdown",
   "id": "854f013c",
   "metadata": {},
   "source": [
    "# Daily Travel PDF"
   ]
  },
  {
   "cell_type": "code",
   "execution_count": 34,
   "id": "d4626ece",
   "metadata": {},
   "outputs": [
    {
     "name": "stdout",
     "output_type": "stream",
     "text": [
      "Mean of Daily Travel:  51.98095238095238\n",
      "STD of Daily Travel:  22.139807265638904\n"
     ]
    },
    {
     "data": {
      "image/png": "[encoded data removed]",
      "text/plain": [
       "<Figure size 720x360 with 1 Axes>"
      ]
     },
     "metadata": {},
     "output_type": "display_data"
    }
   ],
   "source": [
    "def pdf(x):\n",
    "    mean = np.mean(x)\n",
    "    std = np.std(x)\n",
    "    y_out = 1/(x*std * np.sqrt(2 * np.pi)) * np.exp( - (np.log(x) - mean)**2 / (2 * std**2))\n",
    "    return y_out\n",
    "\n",
    "print('Mean of Daily Travel: ',np.mean(dtravel))\n",
    "\n",
    "print('STD of Daily Travel: ',np.std(dtravel))\n",
    "\n",
    "y = pdf(dtravel)\n",
    "\n",
    "dtravel_pdf = (y/(np.sum((y/(np.linalg.norm(y))))*np.linalg.norm(y)))\n",
    "\n",
    "d = {\"Travel\": dtravel, \"PDF\": dtravel_pdf}\n",
    "df3 = pd.DataFrame(d)\n",
    "#df3.set_index('Travel', inplace=True)\n",
    "\n",
    "#df = df3.groupby('Travel')['PDF'].sum()\n",
    "#df3.to_csv('travel2.csv')\n",
    "#df.reset_index(inplace=True)\n",
    "\n",
    "#df = pd.DataFrame(df)\n",
    "#df.reset_index(inplace=True)\n",
    "\n",
    "#sns.kdeplot(df['Travel'], df['PDF'])\n",
    "plt.figure(figsize=(10, 5))\n",
    "plt.bar(df3['Travel'], df3['PDF'])\n",
    "#df3.plot(kind='hist')\n",
    "\n",
    "#sns.barplot(data=df, x=\"Travel\", y=\"PDF\", color='blue')\n",
    "plt.xlabel('Daily Driving Distance (km)')\n",
    "plt.ylabel('PDF')\n",
    "\n",
    "plt.locator_params(axis=\"x\", nbins=10)\n",
    "\n",
    "plt.show()"
   ]
  },
  {
   "cell_type": "markdown",
   "id": "57ed4507",
   "metadata": {},
   "source": [
    "# SOC PDF"
   ]
  },
  {
   "cell_type": "code",
   "execution_count": 35,
   "id": "7b4a0312",
   "metadata": {},
   "outputs": [
    {
     "name": "stdout",
     "output_type": "stream",
     "text": [
      "Mean of SOC:  0.6219567099567099\n",
      "STD of SOC:  0.1610167801137375\n"
     ]
    },
    {
     "data": {
      "image/png": "[encoded data removed]",
      "text/plain": [
       "<Figure size 720x360 with 1 Axes>"
      ]
     },
     "metadata": {},
     "output_type": "display_data"
    }
   ],
   "source": [
    "mean_s = np.mean(soc)\n",
    "print('Mean of SOC: ',mean_s)\n",
    "\n",
    "std_s = np.std(soc)\n",
    "print('STD of SOC: ',std_s)\n",
    "\n",
    "u2pi = math.sqrt(2*math.pi)\n",
    "\n",
    "soc_pdf = 1/(std_s*ranged*(1-soc)*u2pi)*np.exp(- (np.square(np.log(ranged*(1-soc))-mean_s))/2*std_s*std_s)\n",
    "\n",
    "n_soc_pdf = (soc_pdf/(np.sum((soc_pdf/(np.linalg.norm(soc_pdf))))*np.linalg.norm(soc_pdf)))\n",
    "\n",
    "\n",
    "#sns.kdeplot(soc_pdf)\n",
    "\n",
    "d = {\"SOC\": soc*100, \"PDF\": soc_pdf}\n",
    "df3 = pd.DataFrame(d)\n",
    "\n",
    "df = df3.groupby('SOC')['PDF'].sum()\n",
    "#df3.to_csv('travel2.csv')\n",
    "#df.reset_index(inplace=True)\n",
    "df = pd.DataFrame(df)\n",
    "df.reset_index(inplace=True)\n",
    "\n",
    "plt.figure(figsize=(10, 5))\n",
    "plt.bar(df3['SOC'], df3['PDF'])\n",
    "#df.plot(kind='bar')\n",
    "\n",
    "plt.xlabel('SOC')\n",
    "plt.ylabel('PDF')\n",
    "\n",
    "\n",
    "plt.locator_params(axis=\"x\", nbins=10)\n",
    "\n",
    "plt.show()"
   ]
  },
  {
   "cell_type": "code",
   "execution_count": 36,
   "id": "7162a078",
   "metadata": {},
   "outputs": [
    {
     "data": {
      "text/html": [
       "<div>\n",
       "<style scoped>\n",
       "    .dataframe tbody tr th:only-of-type {\n",
       "        vertical-align: middle;\n",
       "    }\n",
       "\n",
       "    .dataframe tbody tr th {\n",
       "        vertical-align: top;\n",
       "    }\n",
       "\n",
       "    .dataframe thead th {\n",
       "        text-align: right;\n",
       "    }\n",
       "</style>\n",
       "<table border=\"1\" class=\"dataframe\">\n",
       "  <thead>\n",
       "    <tr style=\"text-align: right;\">\n",
       "      <th></th>\n",
       "      <th>Charging Time</th>\n",
       "    </tr>\n",
       "  </thead>\n",
       "  <tbody>\n",
       "    <tr>\n",
       "      <th>0</th>\n",
       "      <td>271.022727</td>\n",
       "    </tr>\n",
       "    <tr>\n",
       "      <th>1</th>\n",
       "      <td>330.000000</td>\n",
       "    </tr>\n",
       "    <tr>\n",
       "      <th>2</th>\n",
       "      <td>153.750000</td>\n",
       "    </tr>\n",
       "    <tr>\n",
       "      <th>3</th>\n",
       "      <td>161.250000</td>\n",
       "    </tr>\n",
       "    <tr>\n",
       "      <th>4</th>\n",
       "      <td>283.068182</td>\n",
       "    </tr>\n",
       "    <tr>\n",
       "      <th>...</th>\n",
       "      <td>...</td>\n",
       "    </tr>\n",
       "    <tr>\n",
       "      <th>100</th>\n",
       "      <td>153.750000</td>\n",
       "    </tr>\n",
       "    <tr>\n",
       "      <th>101</th>\n",
       "      <td>215.909091</td>\n",
       "    </tr>\n",
       "    <tr>\n",
       "      <th>102</th>\n",
       "      <td>283.068182</td>\n",
       "    </tr>\n",
       "    <tr>\n",
       "      <th>103</th>\n",
       "      <td>240.909091</td>\n",
       "    </tr>\n",
       "    <tr>\n",
       "      <th>104</th>\n",
       "      <td>296.250000</td>\n",
       "    </tr>\n",
       "  </tbody>\n",
       "</table>\n",
       "<p>105 rows × 1 columns</p>\n",
       "</div>"
      ],
      "text/plain": [
       "     Charging Time\n",
       "0       271.022727\n",
       "1       330.000000\n",
       "2       153.750000\n",
       "3       161.250000\n",
       "4       283.068182\n",
       "..             ...\n",
       "100     153.750000\n",
       "101     215.909091\n",
       "102     283.068182\n",
       "103     240.909091\n",
       "104     296.250000\n",
       "\n",
       "[105 rows x 1 columns]"
      ]
     },
     "execution_count": 36,
     "metadata": {},
     "output_type": "execute_result"
    }
   ],
   "source": [
    "all_stats = []\n",
    "num_reps = n\n",
    "num_simulations = 1000\n",
    "\n",
    "\n",
    "\n",
    "# Loop through simulations\n",
    "for i in range(num_simulations):\n",
    "\n",
    "    #randomly sampling soc and calculating charging time\n",
    "    ct = (bc*(1-np.random.choice(soc, num_reps, p=n_soc_pdf))/(0.8*pl))*60\n",
    "    \n",
    "    \n",
    "    df2 = pd.DataFrame(index=range(num_reps), data={'Charging Time': ct})\n",
    "\n",
    "df2"
   ]
  },
  {
   "cell_type": "code",
   "execution_count": 37,
   "id": "299d5a64",
   "metadata": {},
   "outputs": [
    {
     "data": {
      "text/html": [
       "<div>\n",
       "<style scoped>\n",
       "    .dataframe tbody tr th:only-of-type {\n",
       "        vertical-align: middle;\n",
       "    }\n",
       "\n",
       "    .dataframe tbody tr th {\n",
       "        vertical-align: top;\n",
       "    }\n",
       "\n",
       "    .dataframe thead th {\n",
       "        text-align: right;\n",
       "    }\n",
       "</style>\n",
       "<table border=\"1\" class=\"dataframe\">\n",
       "  <thead>\n",
       "    <tr style=\"text-align: right;\">\n",
       "      <th></th>\n",
       "      <th>Daily Travel</th>\n",
       "      <th>Load</th>\n",
       "      <th>Charging Time</th>\n",
       "    </tr>\n",
       "  </thead>\n",
       "  <tbody>\n",
       "    <tr>\n",
       "      <th>0</th>\n",
       "      <td>37.0</td>\n",
       "      <td>2.4</td>\n",
       "      <td>271.022727</td>\n",
       "    </tr>\n",
       "    <tr>\n",
       "      <th>1</th>\n",
       "      <td>43.0</td>\n",
       "      <td>2.4</td>\n",
       "      <td>330.000000</td>\n",
       "    </tr>\n",
       "    <tr>\n",
       "      <th>2</th>\n",
       "      <td>83.0</td>\n",
       "      <td>2.4</td>\n",
       "      <td>153.750000</td>\n",
       "    </tr>\n",
       "    <tr>\n",
       "      <th>3</th>\n",
       "      <td>84.0</td>\n",
       "      <td>2.4</td>\n",
       "      <td>161.250000</td>\n",
       "    </tr>\n",
       "    <tr>\n",
       "      <th>4</th>\n",
       "      <td>50.0</td>\n",
       "      <td>2.4</td>\n",
       "      <td>283.068182</td>\n",
       "    </tr>\n",
       "  </tbody>\n",
       "</table>\n",
       "</div>"
      ],
      "text/plain": [
       "   Daily Travel  Load  Charging Time\n",
       "0          37.0   2.4     271.022727\n",
       "1          43.0   2.4     330.000000\n",
       "2          83.0   2.4     153.750000\n",
       "3          84.0   2.4     161.250000\n",
       "4          50.0   2.4     283.068182"
      ]
     },
     "execution_count": 37,
     "metadata": {},
     "output_type": "execute_result"
    }
   ],
   "source": [
    "d = {\"Daily Travel\": dtravel, \"Load\":pl}\n",
    "df = pd.DataFrame(d)\n",
    "\n",
    "df = df.join(df2)\n",
    "df.head()"
   ]
  },
  {
   "cell_type": "code",
   "execution_count": null,
   "id": "6eb3fe0a",
   "metadata": {},
   "outputs": [],
   "source": []
  },
  {
   "cell_type": "code",
   "execution_count": 38,
   "id": "9faf3d30",
   "metadata": {},
   "outputs": [],
   "source": [
    "numberList = [0,1,2,3]\n",
    "x = random.choices(numberList, weights=(0.25, 0.25, 0.25, 0.25), k=1)\n",
    "\n",
    "def slot1(x):\n",
    "\n",
    "    import datetime\n",
    "    import time\n",
    "    import random\n",
    "    \n",
    "    if x[0] == 0:\n",
    "        a = 0\n",
    "    elif x[0] == 1:\n",
    "        a = 6\n",
    "    elif x[0] == 2:\n",
    "        a = 12\n",
    "    elif x[0] == 3:\n",
    "        a = 18\n",
    "\n",
    "        \n",
    "    b = a + 5\n",
    "    MINTIME = datetime.datetime(2022,3,1,a,0,0)\n",
    "    MAXTIME = datetime.datetime(2022,3,1,b,55,0)\n",
    "\n",
    "    mintime_ts = int(time.mktime(MINTIME.timetuple())) #convert date into int\n",
    "    maxtime_ts = int(time.mktime(MAXTIME.timetuple())) #convert date into int\n",
    "\n",
    "\n",
    "\n",
    "    nb_slots = (maxtime_ts - mintime_ts)//(5*60)  # number of 5 minutes slots\n",
    "    random_slot = random.randint(0, nb_slots)\n",
    "    random_ts = mintime_ts + 5*60 * random_slot\n",
    "    RANDOMTIME = datetime.datetime.fromtimestamp(random_ts)\n",
    "    return datetime.datetime.strftime(RANDOMTIME, '%H:%M')\n",
    "\n",
    "#print(slot1(x))\n",
    "\n",
    "times =  np.empty((len(df),), dtype=datetime)\n",
    "for i in range(len(times)):\n",
    "    x = random.choices(numberList, weights=(0.25, 0.25, 0.25, 0.25), k=1)\n",
    "    times[i] = slot1(x)"
   ]
  },
  {
   "cell_type": "code",
   "execution_count": 39,
   "id": "b627478c",
   "metadata": {},
   "outputs": [
    {
     "data": {
      "text/html": [
       "<div>\n",
       "<style scoped>\n",
       "    .dataframe tbody tr th:only-of-type {\n",
       "        vertical-align: middle;\n",
       "    }\n",
       "\n",
       "    .dataframe tbody tr th {\n",
       "        vertical-align: top;\n",
       "    }\n",
       "\n",
       "    .dataframe thead th {\n",
       "        text-align: right;\n",
       "    }\n",
       "</style>\n",
       "<table border=\"1\" class=\"dataframe\">\n",
       "  <thead>\n",
       "    <tr style=\"text-align: right;\">\n",
       "      <th></th>\n",
       "      <th>Daily Travel</th>\n",
       "      <th>Load</th>\n",
       "      <th>Charging Time</th>\n",
       "      <th>Charge Time Start</th>\n",
       "    </tr>\n",
       "  </thead>\n",
       "  <tbody>\n",
       "    <tr>\n",
       "      <th>0</th>\n",
       "      <td>31.0</td>\n",
       "      <td>2.4</td>\n",
       "      <td>330.000000</td>\n",
       "      <td>2022-06-27 00:00:00</td>\n",
       "    </tr>\n",
       "    <tr>\n",
       "      <th>1</th>\n",
       "      <td>33.0</td>\n",
       "      <td>2.4</td>\n",
       "      <td>157.500000</td>\n",
       "      <td>2022-06-27 00:05:00</td>\n",
       "    </tr>\n",
       "    <tr>\n",
       "      <th>2</th>\n",
       "      <td>34.0</td>\n",
       "      <td>2.4</td>\n",
       "      <td>240.909091</td>\n",
       "      <td>2022-06-27 00:15:00</td>\n",
       "    </tr>\n",
       "    <tr>\n",
       "      <th>3</th>\n",
       "      <td>47.0</td>\n",
       "      <td>2.4</td>\n",
       "      <td>142.500000</td>\n",
       "      <td>2022-06-27 00:15:00</td>\n",
       "    </tr>\n",
       "    <tr>\n",
       "      <th>4</th>\n",
       "      <td>62.0</td>\n",
       "      <td>2.4</td>\n",
       "      <td>204.772727</td>\n",
       "      <td>2022-06-27 00:15:00</td>\n",
       "    </tr>\n",
       "  </tbody>\n",
       "</table>\n",
       "</div>"
      ],
      "text/plain": [
       "   Daily Travel  Load  Charging Time   Charge Time Start\n",
       "0          31.0   2.4     330.000000 2022-06-27 00:00:00\n",
       "1          33.0   2.4     157.500000 2022-06-27 00:05:00\n",
       "2          34.0   2.4     240.909091 2022-06-27 00:15:00\n",
       "3          47.0   2.4     142.500000 2022-06-27 00:15:00\n",
       "4          62.0   2.4     204.772727 2022-06-27 00:15:00"
      ]
     },
     "execution_count": 39,
     "metadata": {},
     "output_type": "execute_result"
    }
   ],
   "source": [
    "df3 = pd.DataFrame(data =times,columns=['Charge Time Start'])\n",
    "df = df.join(df3)\n",
    "df.head()\n",
    "\n",
    "df['Charge Time Start']= pd.to_datetime(df['Charge Time Start'])\n",
    "\n",
    "df.sort_values('Charge Time Start', inplace=True,ignore_index=True)\n",
    "\n",
    "df.head()"
   ]
  },
  {
   "cell_type": "code",
   "execution_count": 40,
   "id": "a4b25a9a",
   "metadata": {},
   "outputs": [
    {
     "name": "stdout",
     "output_type": "stream",
     "text": [
      "[datetime.datetime(2022, 6, 27, 0, 0) datetime.datetime(2022, 6, 27, 0, 1)\n",
      " datetime.datetime(2022, 6, 27, 0, 2) ...\n",
      " datetime.datetime(2022, 6, 27, 23, 57)\n",
      " datetime.datetime(2022, 6, 27, 23, 58)\n",
      " datetime.datetime(2022, 6, 27, 23, 59)]\n"
     ]
    }
   ],
   "source": [
    "import datetime \n",
    "\n",
    "start = datetime.datetime(2022, 6, 27)\n",
    "dt_array = np.array([start + datetime.timedelta(minutes=i) for i in range(1440)])\n",
    "print(dt_array)\n",
    "\n",
    "vals = np.zeros(len(dt_array))\n",
    "#vals"
   ]
  },
  {
   "cell_type": "code",
   "execution_count": 41,
   "id": "40a9ad40",
   "metadata": {},
   "outputs": [],
   "source": [
    "c= 0\n",
    "\n",
    "for i in range(len(df)):\n",
    "    result = np. where(dt_array == df.loc[i, \"Charge Time Start\"])\n",
    "    b = result[0][0]\n",
    "    for c in range(int(df.loc[i, \"Charging Time\"])):\n",
    "        if b != 1440:\n",
    "            vals[b] = vals[b] + df.loc[i, \"Load\"]\n",
    "            b = b + 1\n",
    "        else:\n",
    "            break\n",
    "        "
   ]
  },
  {
   "cell_type": "code",
   "execution_count": 42,
   "id": "e9cc821a",
   "metadata": {},
   "outputs": [
    {
     "name": "stdout",
     "output_type": "stream",
     "text": [
      "['00:00' '00:01' '00:02' ... '23:57' '23:58' '23:59']\n"
     ]
    }
   ],
   "source": [
    "for i in range(len(dt_array)):\n",
    "    dt_array[i] = \"{:%H:%M}\".format(dt_array[i])\n",
    "#print(dt)\n",
    "print(dt_array)"
   ]
  },
  {
   "cell_type": "code",
   "execution_count": 61,
   "id": "d13379f8",
   "metadata": {},
   "outputs": [
    {
     "data": {
      "text/html": [
       "<div>\n",
       "<style scoped>\n",
       "    .dataframe tbody tr th:only-of-type {\n",
       "        vertical-align: middle;\n",
       "    }\n",
       "\n",
       "    .dataframe tbody tr th {\n",
       "        vertical-align: top;\n",
       "    }\n",
       "\n",
       "    .dataframe thead th {\n",
       "        text-align: right;\n",
       "    }\n",
       "</style>\n",
       "<table border=\"1\" class=\"dataframe\">\n",
       "  <thead>\n",
       "    <tr style=\"text-align: right;\">\n",
       "      <th></th>\n",
       "      <th>Time</th>\n",
       "      <th>Load Profile</th>\n",
       "    </tr>\n",
       "  </thead>\n",
       "  <tbody>\n",
       "    <tr>\n",
       "      <th>0</th>\n",
       "      <td>00:00</td>\n",
       "      <td>2.4</td>\n",
       "    </tr>\n",
       "    <tr>\n",
       "      <th>1</th>\n",
       "      <td>00:01</td>\n",
       "      <td>2.4</td>\n",
       "    </tr>\n",
       "    <tr>\n",
       "      <th>2</th>\n",
       "      <td>00:02</td>\n",
       "      <td>2.4</td>\n",
       "    </tr>\n",
       "    <tr>\n",
       "      <th>3</th>\n",
       "      <td>00:03</td>\n",
       "      <td>2.4</td>\n",
       "    </tr>\n",
       "    <tr>\n",
       "      <th>4</th>\n",
       "      <td>00:04</td>\n",
       "      <td>2.4</td>\n",
       "    </tr>\n",
       "  </tbody>\n",
       "</table>\n",
       "</div>"
      ],
      "text/plain": [
       "    Time  Load Profile\n",
       "0  00:00           2.4\n",
       "1  00:01           2.4\n",
       "2  00:02           2.4\n",
       "3  00:03           2.4\n",
       "4  00:04           2.4"
      ]
     },
     "execution_count": 61,
     "metadata": {},
     "output_type": "execute_result"
    }
   ],
   "source": [
    "d = {\"Time\": dt_array, \"Load Profile\": vals}\n",
    "df3 = pd.DataFrame(d)\n",
    "\n",
    "df3.to_csv('finalprofile_'+str(n)+'.csv')\n",
    "\n",
    "df3.head()\n"
   ]
  },
  {
   "cell_type": "code",
   "execution_count": 56,
   "id": "bac14fec",
   "metadata": {},
   "outputs": [
    {
     "data": {
      "image/png": "[encoded data removed]",
      "text/plain": [
       "<Figure size 720x360 with 1 Axes>"
      ]
     },
     "metadata": {},
     "output_type": "display_data"
    }
   ],
   "source": [
    "df3['hour'] = df3['Time'].map(lambda x: x[:2])\n",
    "\n",
    "\n",
    "hourly = df3.groupby('hour')['Load Profile'].sum()\n",
    "\n",
    "hourly = pd.DataFrame(hourly)\n",
    "#print(hourly)\n",
    "\n",
    "#plt.bar(hourly['hour'], hourly['Load Profile'])\n",
    "hourly.plot(kind='bar', figsize=(10, 5))\n",
    "\n",
    "plt.xlabel('Hour')\n",
    "plt.ylabel('Load (kW)')\n",
    "\n",
    "\n",
    "#plt.figure(figsize=(15, 5))\n",
    "#plt.locator_params(axis=\"x\", nbins=10)\n",
    "\n",
    "plt.show()\n",
    "\n",
    "hourly.to_csv('hourly_finalprofile_'+str(n)+'.csv')"
   ]
  }
 ],
 "metadata": {
  "kernelspec": {
   "display_name": "Python 3 (ipykernel)",
   "language": "python",
   "name": "python3"
  },
  "language_info": {
   "codemirror_mode": {
    "name": "ipython",
    "version": 3
   },
   "file_extension": ".py",
   "mimetype": "text/x-python",
   "name": "python",
   "nbconvert_exporter": "python",
   "pygments_lexer": "ipython3",
   "version": "3.9.12"
  }
 },
 "nbformat": 4,
 "nbformat_minor": 5
}
